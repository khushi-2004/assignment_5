{
 "cells": [
  {
   "cell_type": "code",
   "execution_count": null,
   "id": "9b16f777-a02e-4082-aeef-c1fa29d693f2",
   "metadata": {},
   "outputs": [],
   "source": [
    "Q1, Create a vehicle class with an init method having instance variables as name_of_vehicle, max_speed\n",
    "and average_of_vehicle."
   ]
  },
  {
   "cell_type": "code",
   "execution_count": 6,
   "id": "8d13aaa7-ee13-4640-986a-a67913f3c6fb",
   "metadata": {},
   "outputs": [],
   "source": [
    "class vehicle:\n",
    "    \n",
    "    def __init__(self, name_of_vehicle, max_speed,average_of_vehicle):\n",
    "        self.name_of_vehicle=name_of_vehicle\n",
    "        self.max_speed=max_speed\n",
    "        self.average_of_vehicle=average_of_vehicle\n",
    "    \n",
    "    def vehicle_details(self):\n",
    "        return self.name_of_vehicle, self.max_speed,self.average_of_vehicle\n",
    "  "
   ]
  },
  {
   "cell_type": "code",
   "execution_count": 7,
   "id": "bab29b7f-6eb8-4bc5-8691-77d5699a908a",
   "metadata": {},
   "outputs": [],
   "source": [
    "car=vehicle(\"car\",200,120)"
   ]
  },
  {
   "cell_type": "code",
   "execution_count": 8,
   "id": "5ad6b442-215e-4536-97bb-28981d656524",
   "metadata": {},
   "outputs": [
    {
     "data": {
      "text/plain": [
       "('car', 200, 120)"
      ]
     },
     "execution_count": 8,
     "metadata": {},
     "output_type": "execute_result"
    }
   ],
   "source": [
    "car.vehicle_details()"
   ]
  },
  {
   "cell_type": "code",
   "execution_count": null,
   "id": "a57846c5-593f-4c97-a81a-9b6d888769c9",
   "metadata": {},
   "outputs": [],
   "source": [
    "Q2. Create a child class car from the vehicle class created in Que 1, which will inherit the vehicle class.\n",
    "Create a method named seating_capacity which takes capacity as an argument and returns the name of\n",
    "the vehicle and its seating capacity."
   ]
  },
  {
   "cell_type": "code",
   "execution_count": 13,
   "id": "80cda3ff-a806-44be-b793-db72a8659108",
   "metadata": {},
   "outputs": [],
   "source": [
    "class new_vehicle(vehicle):\n",
    "    def seating_capacity(self,seat_capacity):\n",
    "        self.seat=seat_capacity\n",
    "        \n",
    "    def new_vehicle_details(self):\n",
    "        return self.seat,self.name_of_vehicle"
   ]
  },
  {
   "cell_type": "code",
   "execution_count": 14,
   "id": "2a987654-2daf-4410-a9f2-334ef29e5906",
   "metadata": {},
   "outputs": [],
   "source": [
    "new_vehicle_obj=new_vehicle(\"bus\",150,100)"
   ]
  },
  {
   "cell_type": "code",
   "execution_count": 15,
   "id": "39404b4a-ce54-4efd-8760-2d9c65c1462c",
   "metadata": {},
   "outputs": [],
   "source": [
    "new_vehicle_obj.seating_capacity(40)"
   ]
  },
  {
   "cell_type": "code",
   "execution_count": 17,
   "id": "1451fd70-6c91-4c71-8147-af31f76ed9f2",
   "metadata": {},
   "outputs": [
    {
     "data": {
      "text/plain": [
       "(40, 'bus')"
      ]
     },
     "execution_count": 17,
     "metadata": {},
     "output_type": "execute_result"
    }
   ],
   "source": [
    "new_vehicle_obj.new_vehicle_details()"
   ]
  },
  {
   "cell_type": "code",
   "execution_count": null,
   "id": "dd95da25-cf82-4503-b1e0-72bd722b1490",
   "metadata": {},
   "outputs": [],
   "source": [
    "Q3. What is multiple inheritance? Write a python code to demonstrate multiple inheritance."
   ]
  },
  {
   "cell_type": "code",
   "execution_count": null,
   "id": "bf477779-f263-428c-a745-d5eae8f2b133",
   "metadata": {},
   "outputs": [],
   "source": [
    "multiple inheritance -->\n",
    "    A feature of some object oriented programming language in which an object or class can inherit feature frome more then one parent class\n",
    "    \n",
    "    block diagram -->\n",
    "    \n",
    "        parent class1      parent class2 \n",
    "              |_____________________|                     \n",
    "                        |        \n",
    "                   child class   \n",
    "                "
   ]
  },
  {
   "cell_type": "code",
   "execution_count": 1,
   "id": "e551a06c-e742-4c2c-b961-ce1abc2050b5",
   "metadata": {},
   "outputs": [],
   "source": [
    "class student_mark:\n",
    "    def set_mark(self,math_mark,DSA_mark,python_mark):\n",
    "        self.math_mark=math_mark\n",
    "        self.DSA_mark=DSA_mark\n",
    "        self.python_mark=python_mark\n",
    "        \n",
    "    def total_mark(self):\n",
    "        return (self.math_mark+self.DSA_mark+self.python_mark)\n",
    "    "
   ]
  },
  {
   "cell_type": "code",
   "execution_count": 2,
   "id": "dd050ceb-5331-4b79-8712-57695c817c3b",
   "metadata": {},
   "outputs": [],
   "source": [
    "class sports:\n",
    "    def set_sports(self,sport):\n",
    "        self.sport=sport\n",
    "    \n",
    "    def sport_mark(self):\n",
    "        return self.sport"
   ]
  },
  {
   "cell_type": "code",
   "execution_count": 4,
   "id": "a3ae6a0a-dab7-4080-bfff-4666f1ec9e8e",
   "metadata": {},
   "outputs": [],
   "source": [
    "class result(student_mark,sports):\n",
    "    def persentage(self):\n",
    "        return ((self.math_mark+self.DSA_mark+self.python_mark+self.sport)/400)*100"
   ]
  },
  {
   "cell_type": "code",
   "execution_count": 5,
   "id": "8aecef7c-feee-4402-8387-7caf07cd11eb",
   "metadata": {},
   "outputs": [],
   "source": [
    "kukku=result()"
   ]
  },
  {
   "cell_type": "code",
   "execution_count": 6,
   "id": "3d17ee55-9f11-4e56-927b-f51cc83da6c2",
   "metadata": {},
   "outputs": [],
   "source": [
    "kukku.set_mark(56,78,90)"
   ]
  },
  {
   "cell_type": "code",
   "execution_count": 7,
   "id": "57697ca8-6f8e-436a-bd50-b35702f7687e",
   "metadata": {},
   "outputs": [],
   "source": [
    "kukku.set_sports(89)"
   ]
  },
  {
   "cell_type": "code",
   "execution_count": 8,
   "id": "1a3163f6-94ca-4907-bb65-16875a61fd74",
   "metadata": {},
   "outputs": [
    {
     "data": {
      "text/plain": [
       "78.25"
      ]
     },
     "execution_count": 8,
     "metadata": {},
     "output_type": "execute_result"
    }
   ],
   "source": [
    "kukku.persentage()"
   ]
  },
  {
   "cell_type": "code",
   "execution_count": null,
   "id": "d0803902-52bd-4659-8633-bd2212cf4e88",
   "metadata": {},
   "outputs": [],
   "source": [
    "Q4. What are getter and setter in python? Create a class and create a getter and a setter method in this\n",
    "class."
   ]
  },
  {
   "cell_type": "code",
   "execution_count": null,
   "id": "e6773a5b-9d56-4274-b599-d1cd29b58611",
   "metadata": {},
   "outputs": [],
   "source": [
    "setter-->\n",
    "    use to set data in our method\n",
    "    \n",
    "getter-->\n",
    "    use to get or show the output"
   ]
  },
  {
   "cell_type": "code",
   "execution_count": 13,
   "id": "2f37b869-a813-420c-9ceb-01f3f3450188",
   "metadata": {},
   "outputs": [],
   "source": [
    "class student:\n",
    "    \n",
    "    def set_detail(self,st_name,st_rollNo,st_branch):\n",
    "        self.name=st_name\n",
    "        self.rollNo=st_rollNo\n",
    "        self.branch=st_branch\n",
    "        \n",
    "    def get_detail(self):\n",
    "        return self.name,self.rollNo,self.branch"
   ]
  },
  {
   "cell_type": "code",
   "execution_count": 15,
   "id": "b481e9ee-acdf-4096-a201-908ee7d4de95",
   "metadata": {},
   "outputs": [],
   "source": [
    "ram=student()"
   ]
  },
  {
   "cell_type": "code",
   "execution_count": 16,
   "id": "dc75e686-0256-4cc9-9d6a-b1acf47367ab",
   "metadata": {},
   "outputs": [],
   "source": [
    "ram.set_detail(\"ram\",78,\"CSE\")"
   ]
  },
  {
   "cell_type": "code",
   "execution_count": 17,
   "id": "4b1fa8df-f710-4f7a-b6f7-2c7fd59451a3",
   "metadata": {},
   "outputs": [
    {
     "data": {
      "text/plain": [
       "('ram', 78, 'CSE')"
      ]
     },
     "execution_count": 17,
     "metadata": {},
     "output_type": "execute_result"
    }
   ],
   "source": [
    "ram.get_detail()"
   ]
  },
  {
   "cell_type": "code",
   "execution_count": null,
   "id": "6f22d6c4-2261-433d-bef4-29fd0c954b6c",
   "metadata": {},
   "outputs": [],
   "source": [
    "Q5.What is method overriding in python? Write a python code to demonstrate method overriding."
   ]
  },
  {
   "cell_type": "code",
   "execution_count": null,
   "id": "26d130ab-ee39-4964-8668-f250d27f4e2f",
   "metadata": {},
   "outputs": [],
   "source": [
    "method overriding -->\n",
    "     Method overriding is a feature of object-oriented programming languages where the subclass or child class can provide the program with specific characteristics or a specific implementation process of data provided that are already defined in the parent class or superclass."
   ]
  },
  {
   "cell_type": "code",
   "execution_count": 22,
   "id": "9bd44adc-b259-4053-b5c5-897cbe61a8ef",
   "metadata": {},
   "outputs": [],
   "source": [
    "class shap:\n",
    "    \n",
    "    data1=\"abc\"\n",
    "    \n",
    "    def no_of_sides(self):\n",
    "        print(\"i am from shap class\")\n",
    "        \n",
    "    def two_dimensional(self):\n",
    "        print(\"i am shap class\")"
   ]
  },
  {
   "cell_type": "code",
   "execution_count": 23,
   "id": "dc1ac6e8-8670-4578-b5e0-4cdbe6ffde50",
   "metadata": {},
   "outputs": [],
   "source": [
    "class square(shap):\n",
    "    data2=\"xyz\"\n",
    "    \n",
    "    def no_of_sides(self):\n",
    "        print(\"i am from square class\")\n",
    "        \n",
    "    def color(self):\n",
    "        print(\"i am from square class\")        "
   ]
  },
  {
   "cell_type": "code",
   "execution_count": 24,
   "id": "14ddb8e6-66da-4a19-901f-f7f29ed4e267",
   "metadata": {},
   "outputs": [],
   "source": [
    "sq=square()"
   ]
  },
  {
   "cell_type": "code",
   "execution_count": 26,
   "id": "ceb55370-8c66-4c14-a196-f5068bca96fd",
   "metadata": {},
   "outputs": [
    {
     "name": "stdout",
     "output_type": "stream",
     "text": [
      "i am from square class\n"
     ]
    }
   ],
   "source": [
    "sq.no_of_sides()"
   ]
  }
 ],
 "metadata": {
  "kernelspec": {
   "display_name": "Python 3 (ipykernel)",
   "language": "python",
   "name": "python3"
  },
  "language_info": {
   "codemirror_mode": {
    "name": "ipython",
    "version": 3
   },
   "file_extension": ".py",
   "mimetype": "text/x-python",
   "name": "python",
   "nbconvert_exporter": "python",
   "pygments_lexer": "ipython3",
   "version": "3.10.8"
  }
 },
 "nbformat": 4,
 "nbformat_minor": 5
}
